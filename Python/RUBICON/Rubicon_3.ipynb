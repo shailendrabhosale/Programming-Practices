{
 "cells": [
  {
   "cell_type": "markdown",
   "metadata": {},
   "source": [
    "# Day 3"
   ]
  },
  {
   "cell_type": "markdown",
   "metadata": {},
   "source": [
    "### File IO Basics"
   ]
  },
  {
   "cell_type": "markdown",
   "metadata": {},
   "source": [
    "r - Open File in read mode \\\n",
    "w - Open file in Write mode \\\n",
    "x - Creates File if not exist \\\n",
    "a - Add more content of file \\\n",
    "t - Text mode \\\n",
    "b - Binary mode \\\n",
    "+` - read and Write both"
   ]
  },
  {
   "cell_type": "markdown",
   "metadata": {},
   "source": [
    "print(f.tell()) #It tells the position of \\\n",
    "print(f.readline()) \\\n",
    "print(f.tell()) \\\n",
    "print(f.readline()) \\\n",
    "print(f.tell())"
   ]
  },
  {
   "cell_type": "code",
   "execution_count": 13,
   "metadata": {},
   "outputs": [
    {
     "name": "stdout",
     "output_type": "stream",
     "text": [
      "Hello there!!!\n"
     ]
    }
   ],
   "source": [
    "f = open(\"D:/SHAILU/prog_practices/Python/RUBICON/File_Handling/first.txt\", \"rt\")\n",
    "content=f.read(14)\n",
    "print(content)\n",
    "f.close()"
   ]
  },
  {
   "cell_type": "code",
   "execution_count": 16,
   "metadata": {},
   "outputs": [
    {
     "ename": "SyntaxError",
     "evalue": "invalid syntax (2850042566.py, line 3)",
     "output_type": "error",
     "traceback": [
      "\u001b[1;36m  Cell \u001b[1;32mIn[16], line 3\u001b[1;36m\u001b[0m\n\u001b[1;33m    for i in range n:\u001b[0m\n\u001b[1;37m                   ^\u001b[0m\n\u001b[1;31mSyntaxError\u001b[0m\u001b[1;31m:\u001b[0m invalid syntax\n"
     ]
    }
   ],
   "source": [
    "f = open(\"D:/SHAILU/prog_practices/Python/RUBICON/File_Handling/first.txt\", \"w\")\n",
    "n = int(input(\"How many time do you want motivation? :\"))\n",
    "for i in range n:\n",
    "    f.write(\"Just Do It!!!!\")"
   ]
  },
  {
   "cell_type": "markdown",
   "metadata": {},
   "source": [
    "### shutil package\n",
    "**import shutil \\\n",
    "The shutil module in Python provides high-level operations for file management."
   ]
  },
  {
   "cell_type": "markdown",
   "metadata": {},
   "source": [
    "int a = 10                  #global variable\n",
    "\n",
    "class abc():\n",
    "    int a                   #local variable\n",
    "    a = 20\n",
    "    print(a)\n",
    "    #set of code\n",
    "    def fun1(self):\n",
    "        #set of lines\n",
    "\n",
    "a = abc()\n",
    "a.fun1(print(\"Hello\"))\n",
    "print(a.fun1(a))"
   ]
  },
  {
   "cell_type": "markdown",
   "metadata": {},
   "source": []
  }
 ],
 "metadata": {
  "kernelspec": {
   "display_name": "Python 3",
   "language": "python",
   "name": "python3"
  },
  "language_info": {
   "codemirror_mode": {
    "name": "ipython",
    "version": 3
   },
   "file_extension": ".py",
   "mimetype": "text/x-python",
   "name": "python",
   "nbconvert_exporter": "python",
   "pygments_lexer": "ipython3",
   "version": "3.12.4"
  }
 },
 "nbformat": 4,
 "nbformat_minor": 2
}
