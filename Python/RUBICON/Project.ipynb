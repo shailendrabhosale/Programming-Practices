{
 "cells": [
  {
   "cell_type": "markdown",
   "metadata": {},
   "source": [
    "# Project Development"
   ]
  },
  {
   "cell_type": "markdown",
   "metadata": {},
   "source": [
    "## SDLC\n",
    "1. Planning\n",
    "2. Feasibility Study\n",
    "3. Analysis\n",
    "4. Design\n",
    "5. Test\n",
    "6. Maintainence"
   ]
  },
  {
   "cell_type": "markdown",
   "metadata": {},
   "source": [
    "## Agile Model"
   ]
  },
  {
   "cell_type": "markdown",
   "metadata": {},
   "source": [
    "## Waterfall Model"
   ]
  },
  {
   "cell_type": "markdown",
   "metadata": {},
   "source": [
    "------------------------------------------------"
   ]
  },
  {
   "cell_type": "markdown",
   "metadata": {},
   "source": [
    "models.py: \\\n",
    "Tables \\\n",
    "product: pname, pprice, pdescription, discount\\\n",
    "\n",
    "views.py: \\\n",
    "Business logic: Python code \\\n",
    "\n",
    "admin.py: Register \\\n",
    "urls.py: \\\n",
    "127.0.8000/search='mixer'"
   ]
  },
  {
   "cell_type": "markdown",
   "metadata": {},
   "source": [
    "### Python Projects\n",
    "py manage.py runserver \\\n",
    "py manage.py migrate \\\n",
    "py manage.py makemigrations \\\n",
    "py manage.py createsuperuser \\\n",
    "pip install django \\\n",
    "pip install pillow"
   ]
  },
  {
   "cell_type": "markdown",
   "metadata": {},
   "source": [
    "----------------------------------------------------"
   ]
  },
  {
   "cell_type": "markdown",
   "metadata": {},
   "source": [
    "### REQ:"
   ]
  },
  {
   "cell_type": "markdown",
   "metadata": {},
   "source": [
    "Testimonial \\\n",
    "Django- \\\n",
    "Atom- "
   ]
  },
  {
   "cell_type": "markdown",
   "metadata": {},
   "source": []
  }
 ],
 "metadata": {
  "language_info": {
   "name": "python"
  }
 },
 "nbformat": 4,
 "nbformat_minor": 2
}
