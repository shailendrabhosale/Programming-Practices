{
 "cells": [
  {
   "cell_type": "markdown",
   "metadata": {},
   "source": [
    "# Exampler Questions"
   ]
  },
  {
   "cell_type": "markdown",
   "metadata": {},
   "source": [
    "1. Create a function of a groceries store where you need to add vegetable fruits household items & kids items.\n",
    "You will provide user choices to add groceries & the groceries chosen by the user should be appended to the final groceries list.\n",
    "When the user confirms the groceries list, the output should be present in the form of bill where invoice generated is shown as grocery/product name:/product price/ inr rupees"
   ]
  }
 ],
 "metadata": {
  "language_info": {
   "name": "python"
  }
 },
 "nbformat": 4,
 "nbformat_minor": 2
}
