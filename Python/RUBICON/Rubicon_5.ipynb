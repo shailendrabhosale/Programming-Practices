{
 "cells": [
  {
   "cell_type": "markdown",
   "metadata": {},
   "source": [
    "# Day 2"
   ]
  },
  {
   "cell_type": "code",
   "execution_count": 1,
   "metadata": {},
   "outputs": [
    {
     "ename": "SyntaxError",
     "evalue": "expected ':' (2065732230.py, line 2)",
     "output_type": "error",
     "traceback": [
      "\u001b[1;36m  Cell \u001b[1;32mIn[1], line 2\u001b[1;36m\u001b[0m\n\u001b[1;33m    for i in range\u001b[0m\n\u001b[1;37m                  ^\u001b[0m\n\u001b[1;31mSyntaxError\u001b[0m\u001b[1;31m:\u001b[0m expected ':'\n"
     ]
    }
   ],
   "source": [
    "list = []\n",
    "for i in range"
   ]
  },
  {
   "cell_type": "markdown",
   "metadata": {},
   "source": [
    "## Questions"
   ]
  },
  {
   "cell_type": "markdown",
   "metadata": {},
   "source": [
    "Write a program to create a 10 hardware network lab items through dictionary using dictionary comprehension method.\n",
    "\n",
    "Once the dictionary get apppended wtih 10 item print the item with price in ascending order as:\n",
    "\n",
    "1) Cable\n",
    "2) Laptop\n",
    "3) Mouse"
   ]
  },
  {
   "cell_type": "markdown",
   "metadata": {},
   "source": [
    "Write a program to create a list in which elements used will be printed in palindrome form using list comprehension."
   ]
  },
  {
   "cell_type": "markdown",
   "metadata": {},
   "source": [
    "Write a class which inherits 2 classes:\n",
    "\n",
    "1. Length of String\n",
    "2. Length of List \n",
    "\n",
    "Providing output in display function as:\n",
    "1. Length of string is: \n",
    "2. Length of the list is: \n",
    "\n",
    "Thank You for Choosing this method:"
   ]
  },
  {
   "cell_type": "markdown",
   "metadata": {},
   "source": [
    "------------------------------------"
   ]
  },
  {
   "cell_type": "markdown",
   "metadata": {},
   "source": [
    "1. Sunfoundary  -   -   -   -   -   -   -   - Solving Python Objectives\n",
    "2. Programmiz   -   -   -   -   -   -   -   - Python Programs\n",
    "3. Geeks for Geeks  -   -   -   -   -   -   - Python Programs with Examples\n",
    "4. Colorlib -   -   -   -   -   -   -   -   - HTML Templates/ Bootstrap templates\n",
    "5. Bootstrap    -   -   -   -   -   -   -   - Advance HTML/ CSS classes\n",
    "6. w3school -   -   -   -   -   -   -   -   - Basic Python Django tutorials\n",
    "7. Coursera -   -   -   -   -   -   -   -   - Global Certification\n",
    "8. django documentation -   -   -   -   -   - Django Syntax\n",
    "9. Open dev tool    -   -   -   -   -   -   - Debugger Tool\n",
    "10. Skyippy -   -   -   -   -   -   -   -   - Communication Skills\n",
    "11. ThemeWagon  -   -   -   -   -   -   -   - HTML Templates/ Bootstrap templates"
   ]
  },
  {
   "cell_type": "markdown",
   "metadata": {},
   "source": []
  }
 ],
 "metadata": {
  "kernelspec": {
   "display_name": "Python 3",
   "language": "python",
   "name": "python3"
  },
  "language_info": {
   "codemirror_mode": {
    "name": "ipython",
    "version": 3
   },
   "file_extension": ".py",
   "mimetype": "text/x-python",
   "name": "python",
   "nbconvert_exporter": "python",
   "pygments_lexer": "ipython3",
   "version": "3.12.4"
  }
 },
 "nbformat": 4,
 "nbformat_minor": 2
}
