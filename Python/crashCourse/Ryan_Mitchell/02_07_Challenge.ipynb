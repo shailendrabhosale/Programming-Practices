{
 "cells": [
  {
   "cell_type": "markdown",
   "id": "48f2163c",
   "metadata": {},
   "source": [
    "## Factorial Challenge\n",
    "\n",
    "The factorial function gives the number of possible arrangements of a set of items of length \"n\"\n",
    "\n",
    "For example, there are 4! (\"four factorial\") or 24 ways to arrange four items, which can be calculated as: \n",
    "4 \\* 3 \\* 2 \\* 1\n",
    "\n",
    "5! = 5 \\* 4 \\* 3 \\* 2 \\* 1 = 120\n",
    "\n",
    "6! = 6 \\* 5 \\* 4 \\* 3 \\* 2 \\* 1 = 720\n",
    "\n",
    "etc.\n",
    "\n",
    "In a set of 0 items (an empty set) there is only one way to arrange the items, therefore, 0! = 1\n",
    "\n",
    "For the purposes of this exercise, factorials are only defined for **positive integers** (including 0)\n",
    "\n",
    "\n"
   ]
  },
  {
   "cell_type": "code",
   "execution_count": 13,
   "id": "92af0386",
   "metadata": {},
   "outputs": [],
   "source": [
    "# Returns the value of the factorial of num if it is defined, otherwise, returns None\n",
    "\"\"\" .1\n",
    "def factorial(num):\n",
    "    fact = 1\n",
    "    if (num <= 0 or type(num) == float or type(num) == str):\n",
    "        return None\n",
    "    else:\n",
    "        for i in range(1,num+1):\n",
    "            fact = fact * i\n",
    "        return fact\n",
    "\"\"\"\n",
    "\"\"\" .2\n",
    "def factorial(num):\n",
    "    i = num - 1\n",
    "    if type(num) == int and num > 0:\n",
    "        while (i != 0):\n",
    "            num = num * i\n",
    "            i -= 1\n",
    "        return num\n",
    "    elif type(num) == int and num == 0:\n",
    "        return 1\n",
    "    else:\n",
    "        return None\n",
    "\"\"\"\n",
    "\"\"\" .3\n",
    "def factorial(num):\n",
    "    if type(num) != int or num < 0:\n",
    "        return None\n",
    "    i = num - 1\n",
    "    while (i != 0):\n",
    "        num *= i\n",
    "        i -= 1\n",
    "    return num\n",
    "\"\"\"\n",
    "def factorial(num):\n",
    "    if type(num) != int:\n",
    "        return None\n",
    "    if num < 0:\n",
    "        return None\n",
    "    \n",
    "    fact = 1\n",
    "    counter = 1\n",
    "    while counter <= num:\n",
    "        fact *= counter\n",
    "        counter += 1\n",
    "    return fact"
   ]
  },
  {
   "cell_type": "code",
   "execution_count": 14,
   "id": "1d10be7a",
   "metadata": {},
   "outputs": [
    {
     "data": {
      "text/plain": [
       "120"
      ]
     },
     "execution_count": 14,
     "metadata": {},
     "output_type": "execute_result"
    }
   ],
   "source": [
    "# return 120\n",
    "factorial(5)"
   ]
  },
  {
   "cell_type": "code",
   "execution_count": 15,
   "id": "580eeb3e",
   "metadata": {},
   "outputs": [
    {
     "data": {
      "text/plain": [
       "720"
      ]
     },
     "execution_count": 15,
     "metadata": {},
     "output_type": "execute_result"
    }
   ],
   "source": [
    "# return 720\n",
    "factorial (6)"
   ]
  },
  {
   "cell_type": "code",
   "execution_count": 16,
   "id": "c43845c1",
   "metadata": {},
   "outputs": [
    {
     "data": {
      "text/plain": [
       "1"
      ]
     },
     "execution_count": 16,
     "metadata": {},
     "output_type": "execute_result"
    }
   ],
   "source": [
    "# return 1\n",
    "factorial(0)"
   ]
  },
  {
   "cell_type": "code",
   "execution_count": 17,
   "id": "8f605415",
   "metadata": {},
   "outputs": [],
   "source": [
    "# return None\n",
    "factorial(-2)"
   ]
  },
  {
   "cell_type": "code",
   "execution_count": 18,
   "id": "5b973ff0",
   "metadata": {},
   "outputs": [],
   "source": [
    "# return None\n",
    "factorial(1.2)"
   ]
  },
  {
   "cell_type": "code",
   "execution_count": 19,
   "id": "67f07cca",
   "metadata": {},
   "outputs": [],
   "source": [
    "# return None\n",
    "factorial('spam spam spam spam spam spam')"
   ]
  },
  {
   "cell_type": "code",
   "execution_count": null,
   "id": "714148cd",
   "metadata": {},
   "outputs": [],
   "source": []
  }
 ],
 "metadata": {
  "kernelspec": {
   "display_name": "Python 3 (ipykernel)",
   "language": "python",
   "name": "python3"
  },
  "language_info": {
   "codemirror_mode": {
    "name": "ipython",
    "version": 3
   },
   "file_extension": ".py",
   "mimetype": "text/x-python",
   "name": "python",
   "nbconvert_exporter": "python",
   "pygments_lexer": "ipython3",
   "version": "3.12.2"
  }
 },
 "nbformat": 4,
 "nbformat_minor": 5
}
